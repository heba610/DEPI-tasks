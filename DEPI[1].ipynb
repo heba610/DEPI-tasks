{
 "cells": [
  {
   "cell_type": "code",
   "execution_count": 1,
   "metadata": {},
   "outputs": [],
   "source": [
    "import sqlite3"
   ]
  },
  {
   "cell_type": "code",
   "execution_count": 2,
   "metadata": {},
   "outputs": [],
   "source": [
    "db=sqlite3.connect(\"DEPI.db\")"
   ]
  },
  {
   "cell_type": "code",
   "execution_count": 3,
   "metadata": {},
   "outputs": [],
   "source": [
    "crsr=db.cursor()"
   ]
  },
  {
   "cell_type": "code",
   "execution_count": 4,
   "metadata": {},
   "outputs": [
    {
     "data": {
      "text/plain": [
       "<sqlite3.Cursor at 0x23710c787c0>"
      ]
     },
     "execution_count": 4,
     "metadata": {},
     "output_type": "execute_result"
    }
   ],
   "source": [
    "crsr.execute(\"CREATE TABLE if not exists round (name text , round_id integer, startdate  date,enddate date)\")\n",
    "crsr.execute(\"CREATE TABLE if not exists track (name text , track_id integer, modules text)\")\n",
    "crsr.execute(\"CREATE TABLE if not exists city (name text , city_id integert, location text)\")\n",
    "crsr.execute(\"CREATE TABLE if not exists student (name text , student_id integer, phone text, email text , gender text, college text,round_id integer,city_id integer)\")\n",
    "crsr.execute(\"CREATE TABLE if not exists instructor (name text , instructor_id integer, salary integer)\")\n",
    "crsr.execute(\"CREATE TABLE if not exists companies (name text , company_id integer, jop_description text )\")"
   ]
  },
  {
   "cell_type": "code",
   "execution_count": 5,
   "metadata": {},
   "outputs": [
    {
     "data": {
      "text/plain": [
       "<sqlite3.Cursor at 0x23710c787c0>"
      ]
     },
     "execution_count": 5,
     "metadata": {},
     "output_type": "execute_result"
    }
   ],
   "source": [
    "crsr.execute(\"insert into round(name,round_id,startdate,enddate) values('Round_1',1,25/10/2023,18/7/2024)\")\n",
    "crsr.execute(\"insert into round(name,round_id,startdate,enddate) values('Round_2',2,25/10/2024,18/7/2025)\")\n",
    "crsr.execute(\"insert into round(name,round_id,startdate,enddate) values('Round_3',3,25/10/2025,18/7/2026)\")\n",
    "crsr.execute(\"insert into round(name,round_id,startdate,enddate) values('Round_4',4,25/10/2026,18/7/2027)\")\n",
    "crsr.execute(\"insert into round(name,round_id,startdate,enddate) values('Round_5',5,25/10/2027,18/7/2028)\")\n",
    "crsr.execute(\"insert into round(name,round_id,startdate,enddate) values('Round_6',6,25/10/2028,18/7/2029)\")"
   ]
  },
  {
   "cell_type": "code",
   "execution_count": 6,
   "metadata": {},
   "outputs": [
    {
     "data": {
      "text/plain": [
       "<sqlite3.Cursor at 0x23710c787c0>"
      ]
     },
     "execution_count": 6,
     "metadata": {},
     "output_type": "execute_result"
    }
   ],
   "source": [
    "crsr.execute(\"insert into city(name , city_id , location )values ('assiut',1,'mahmoud rashwan')\")\n",
    "crsr.execute(\"insert into city(name  , city_id , location )values ('cairo',2,'6 october')\")\n",
    "crsr.execute(\"insert into city(name  , city_id , location )values ('alexandria',3,'sidi bshr')\")\n",
    "crsr.execute(\"insert into city(name  , city_id , location )values ('almansoura',4,'eljalaa')\")\n",
    "crsr.execute(\"insert into city(name  , city_id , location )values ('elmina',5,'eldwa7i')\")\n",
    "crsr.execute(\"insert into city(name , city_id , location )values ('aswan',6,'elzouhor')\")"
   ]
  },
  {
   "cell_type": "code",
   "execution_count": 7,
   "metadata": {},
   "outputs": [
    {
     "data": {
      "text/plain": [
       "<sqlite3.Cursor at 0x23710c787c0>"
      ]
     },
     "execution_count": 7,
     "metadata": {},
     "output_type": "execute_result"
    }
   ],
   "source": [
    "crsr.execute(\"INSERT into track (name,track_id,modules) values ('data science',1,'python')\")\n",
    "crsr.execute(\"INSERT into track (name,track_id,modules) values ('data analysis',2,'SQL')\")\n",
    "crsr.execute(\"INSERT into track (name,track_id,modules) values ('dotnet',3,'c#')\")\n",
    "crsr.execute(\"INSERT into track (name,track_id,modules) values ('frontend',4,'HTML')\")\n",
    "crsr.execute(\"INSERT into track (name,track_id,modules) values ('backend',5,'javascript')\")\n",
    "crsr.execute(\"INSERT into track (name,track_id,modules) values ('moblile',6,'kotlin')\")"
   ]
  },
  {
   "cell_type": "code",
   "execution_count": 8,
   "metadata": {},
   "outputs": [
    {
     "data": {
      "text/plain": [
       "<sqlite3.Cursor at 0x23710c787c0>"
      ]
     },
     "execution_count": 8,
     "metadata": {},
     "output_type": "execute_result"
    }
   ],
   "source": [
    "crsr.execute(\"insert into student (name,student_id,phone,email,gender,college,round_id,city_id)values('Mostafa',1,010,'mostafa@student','mail','eelu',2,1)\")\n",
    "crsr.execute(\"insert into student (name,student_id,phone,email,gender,college,round_id,city_id)values('Haba',2,011,'haba@student','fmail','fcs',2,1)\")\n",
    "crsr.execute(\"insert into student (name,student_id,phone,email,gender,college,round_id,city_id)values('Marly',3,012,'marly@student','fmail','fic',2,1)\")\n",
    "crsr.execute(\"insert into student (name,student_id,phone,email,gender,college,round_id,city_id)values('Abdelaziz',4,013,'abdelaziz@student','mail','eelu',2,1)\")\n",
    "crsr.execute(\"insert into student (name,student_id,phone,email,gender,college,round_id,city_id)values('Amr',5,014,'amr@student','mail','AUO',2,2)\")\n",
    "crsr.execute(\"insert into student (name,student_id,phone,email,gender,college,round_id,city_id)values('Malak',6,015,'malak@student','fmail','eelu',1,1)\")"
   ]
  },
  {
   "cell_type": "code",
   "execution_count": 9,
   "metadata": {},
   "outputs": [
    {
     "data": {
      "text/plain": [
       "<sqlite3.Cursor at 0x23710c787c0>"
      ]
     },
     "execution_count": 9,
     "metadata": {},
     "output_type": "execute_result"
    }
   ],
   "source": [
    "crsr.execute(\"insert into instructor (name, instructor_id , salary )values ('amjad dief',1,50000)\")\n",
    "crsr.execute(\"insert into instructor (name, instructor_id , salary )values ('ahmed',2,200000)\")\n",
    "crsr.execute(\"insert into instructor (name, instructor_id , salary )values ('mohammed',3,30000)\")\n",
    "crsr.execute(\"insert into instructor (name, instructor_id , salary )values ('mahmoud',4,15000)\")\n",
    "crsr.execute(\"insert into instructor (name, instructor_id , salary )values ('mostafa',5,12000)\")\n",
    "crsr.execute(\"insert into instructor (name, instructor_id , salary )values ('amira',6,13000)\")\n",
    "crsr.execute(\"insert into instructor (name, instructor_id , salary )values ('fatma',7,17000)\")"
   ]
  },
  {
   "cell_type": "code",
   "execution_count": 10,
   "metadata": {},
   "outputs": [
    {
     "data": {
      "text/plain": [
       "<sqlite3.Cursor at 0x23710c787c0>"
      ]
     },
     "execution_count": 10,
     "metadata": {},
     "output_type": "execute_result"
    }
   ],
   "source": [
    "crsr.execute(\"insert into  companies(name,company_id,jop_description ) values ('Eythu',1,'Ds')\")\n",
    "crsr.execute(\"insert into  companies(name,company_id,jop_description ) values ('Mwa',2,'ccna')\")\n",
    "crsr.execute(\"insert into  companies(name,company_id,jop_description ) values ('tsssdx',3,'php')\")\n",
    "crsr.execute(\"insert into companies (name,company_id,jop_description)values('Nesxt',4,'Software')\")\n",
    "crsr.execute(\"insert into companies (name,company_id,jop_description)values('Clc',5,'.net')\")\n",
    "crsr.execute(\"insert into companies (name,company_id,jop_description)values('gloobal',6,'notjs')\")"
   ]
  },
  {
   "cell_type": "code",
   "execution_count": 11,
   "metadata": {},
   "outputs": [],
   "source": [
    "db.commit()"
   ]
  },
  {
   "cell_type": "code",
   "execution_count": 12,
   "metadata": {},
   "outputs": [
    {
     "data": {
      "text/plain": [
       "<sqlite3.Cursor at 0x23710c787c0>"
      ]
     },
     "execution_count": 12,
     "metadata": {},
     "output_type": "execute_result"
    }
   ],
   "source": [
    "crsr.execute(\"select * from student where round_id=2 \")"
   ]
  },
  {
   "cell_type": "code",
   "execution_count": 13,
   "metadata": {},
   "outputs": [
    {
     "name": "stdout",
     "output_type": "stream",
     "text": [
      "[('Mostafa', 1, '10', 'mostafa@student', 'mail', 'eelu', 2, 1), ('Haba', 2, '11', 'haba@student', 'fmail', 'fcs', 2, 1), ('Marly', 3, '12', 'marly@student', 'fmail', 'fic', 2, 1), ('Abdelaziz', 4, '13', 'abdelaziz@student', 'mail', 'eelu', 2, 1), ('Amr', 5, '14', 'amr@student', 'mail', 'AUO', 2, 2)]\n"
     ]
    }
   ],
   "source": [
    "print(crsr.fetchall())"
   ]
  },
  {
   "cell_type": "code",
   "execution_count": 14,
   "metadata": {},
   "outputs": [
    {
     "data": {
      "text/plain": [
       "<sqlite3.Cursor at 0x23710c787c0>"
      ]
     },
     "execution_count": 14,
     "metadata": {},
     "output_type": "execute_result"
    }
   ],
   "source": [
    "crsr.execute(\"select * from student where city_id=1\")"
   ]
  },
  {
   "cell_type": "code",
   "execution_count": 15,
   "metadata": {},
   "outputs": [
    {
     "name": "stdout",
     "output_type": "stream",
     "text": [
      "[('Mostafa', 1, '10', 'mostafa@student', 'mail', 'eelu', 2, 1), ('Haba', 2, '11', 'haba@student', 'fmail', 'fcs', 2, 1), ('Marly', 3, '12', 'marly@student', 'fmail', 'fic', 2, 1), ('Abdelaziz', 4, '13', 'abdelaziz@student', 'mail', 'eelu', 2, 1), ('Malak', 6, '15', 'malak@student', 'fmail', 'eelu', 1, 1)]\n"
     ]
    }
   ],
   "source": [
    "print(crsr.fetchall())"
   ]
  },
  {
   "cell_type": "code",
   "execution_count": 16,
   "metadata": {},
   "outputs": [
    {
     "name": "stdout",
     "output_type": "stream",
     "text": [
      "Count of students: 5\n"
     ]
    }
   ],
   "source": [
    "# Count query\n",
    "x=1\n",
    "crsr.execute(\"SELECT COUNT(DISTINCT student_id) FROM student WHERE (round_id = 1 OR round_id = 2) AND city_id = 1\")\n",
    "count = crsr.fetchone()[0]\n",
    "print(f\"Count of students: {count}\")\n"
   ]
  }
 ],
 "metadata": {
  "kernelspec": {
   "display_name": "Python 3",
   "language": "python",
   "name": "python3"
  },
  "language_info": {
   "codemirror_mode": {
    "name": "ipython",
    "version": 3
   },
   "file_extension": ".py",
   "mimetype": "text/x-python",
   "name": "python",
   "nbconvert_exporter": "python",
   "pygments_lexer": "ipython3",
   "version": "3.12.6"
  }
 },
 "nbformat": 4,
 "nbformat_minor": 2
}
