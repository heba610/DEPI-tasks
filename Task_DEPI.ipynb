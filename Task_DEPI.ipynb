{
 "cells": [
  {
   "cell_type": "code",
   "execution_count": 1,
   "metadata": {},
   "outputs": [],
   "source": [
    "import sqlite3\n",
    "db=sqlite3.connect(\"DEPI.db\")\n",
    "crsr=db.cursor()\n",
    "crsr.execute(\"CREATE TABLE if not exists round (name text , round_id integer, startdate  date,enddate date)\")\n",
    "crsr.execute(\"CREATE TABLE if not exists track (name text , track_id integer, modules text)\")\n",
    "crsr.execute(\"CREATE TABLE if not exists city (name text , city_id integert, location text)\")\n",
    "crsr.execute(\"CREATE TABLE if not exists student (name text , student_id integer, phone text, email text , gender text, college text)\")\n",
    "crsr.execute(\"CREATE TABLE if not exists instructor (name text , instructor_id integer, salary integer)\")\n",
    "crsr.execute(\"CREATE TABLE if not exists companies (name text , company_id integer, jop_description text )\")\n",
    "db.commit()"
   ]
  },
  {
   "cell_type": "code",
   "execution_count": 7,
   "metadata": {},
   "outputs": [
    {
     "data": {
      "text/plain": [
       "<sqlite3.Cursor at 0x1097e19e1c0>"
      ]
     },
     "execution_count": 7,
     "metadata": {},
     "output_type": "execute_result"
    }
   ],
   "source": [
    "crsr.execute(\"insert into round(name,round_id,startdate,enddate) values('Round_1',1,25/10/2023,18/7/2024)\")\n",
    "crsr.execute(\"insert into round(name,round_id,startdate,enddate) values('Round_2',2,25/10/2024,18/7/2025)\")\n",
    "crsr.execute(\"insert into round(name,round_id,startdate,enddate) values('Round_3',3,25/10/2025,18/7/2026)\")\n",
    "crsr.execute(\"insert into round(name,round_id,startdate,enddate) values('Round_4',4,25/10/2026,18/7/2027)\")\n",
    "crsr.execute(\"insert into round(name,round_id,startdate,enddate) values('Round_5',5,25/10/2027,18/7/2028)\")\n",
    "crsr.execute(\"insert into round(name,round_id,startdate,enddate) values('Round_6',6,25/10/2028,18/7/2029)\")"
   ]
  },
  {
   "cell_type": "code",
   "execution_count": 8,
   "metadata": {},
   "outputs": [
    {
     "data": {
      "text/plain": [
       "<sqlite3.Cursor at 0x1097e19e1c0>"
      ]
     },
     "execution_count": 8,
     "metadata": {},
     "output_type": "execute_result"
    }
   ],
   "source": [
    "crsr.execute(\"insert into city(name , city_id , location )values ('assiut',1,'mahmoud rashwan')\")\n",
    "crsr.execute(\"insert into city(name  , city_id , location )values ('cairo',2,'6 october')\")\n",
    "crsr.execute(\"insert into city(name  , city_id , location )values ('alexandria',3,'sidi bshr')\")\n",
    "crsr.execute(\"insert into city(name  , city_id , location )values ('almansoura',4,'eljalaa')\")\n",
    "crsr.execute(\"insert into city(name  , city_id , location )values ('elmina',5,'eldwa7i')\")\n",
    "crsr.execute(\"insert into city(name , city_id , location )values ('aswan',6,'elzouhor')\")"
   ]
  },
  {
   "cell_type": "code",
   "execution_count": 9,
   "metadata": {},
   "outputs": [
    {
     "data": {
      "text/plain": [
       "<sqlite3.Cursor at 0x1097e19e1c0>"
      ]
     },
     "execution_count": 9,
     "metadata": {},
     "output_type": "execute_result"
    }
   ],
   "source": [
    "crsr.execute(\"INSERT into track (name,track_id,modules) values ('data science',1,'python')\")\n",
    "crsr.execute(\"INSERT into track (name,track_id,modules) values ('data analysis',2,'SQL')\")\n",
    "crsr.execute(\"INSERT into track (name,track_id,modules) values ('dotnet',3,'c#')\")\n",
    "crsr.execute(\"INSERT into track (name,track_id,modules) values ('frontend',4,'HTML')\")\n",
    "crsr.execute(\"INSERT into track (name,track_id,modules) values ('backend',5,'javascript')\")\n",
    "crsr.execute(\"INSERT into track (name,track_id,modules) values ('moblile',6,'kotlin')\")"
   ]
  },
  {
   "cell_type": "code",
   "execution_count": 14,
   "metadata": {},
   "outputs": [
    {
     "data": {
      "text/plain": [
       "<sqlite3.Cursor at 0x1097e19e1c0>"
      ]
     },
     "execution_count": 14,
     "metadata": {},
     "output_type": "execute_result"
    }
   ],
   "source": [
    "crsr.execute(\"insert into student (name,student_id,phone,email,gender,college)values('Mostafa',1,010,'mostafa@student','mail','eelu')\")\n",
    "crsr.execute(\"insert into student (name,student_id,phone,email,gender,college)values('Haba',2,011,'haba@student','fmail','fcs')\")\n",
    "crsr.execute(\"insert into student (name,student_id,phone,email,gender,college)values('Marly',3,012,'marly@student','fmail','fic')\")\n",
    "crsr.execute(\"insert into student (name,student_id,phone,email,gender,college)values('Abdelaziz',4,013,'abdelaziz@student','mail','eelu')\")\n",
    "crsr.execute(\"insert into student (name,student_id,phone,email,gender,college)values('Amr',5,014,'amr@student','mail','AUO')\")\n",
    "crsr.execute(\"insert into student (name,student_id,phone,email,gender,college)values('Malak',6,015,'malak@student','fmail','eelu')\")"
   ]
  },
  {
   "cell_type": "code",
   "execution_count": 13,
   "metadata": {},
   "outputs": [],
   "source": [
    "db.commit()"
   ]
  },
  {
   "cell_type": "code",
   "execution_count": null,
   "metadata": {},
   "outputs": [],
   "source": []
  }
 ],
 "metadata": {
  "kernelspec": {
   "display_name": "Python 3",
   "language": "python",
   "name": "python3"
  },
  "language_info": {
   "codemirror_mode": {
    "name": "ipython",
    "version": 3
   },
   "file_extension": ".py",
   "mimetype": "text/x-python",
   "name": "python",
   "nbconvert_exporter": "python",
   "pygments_lexer": "ipython3",
   "version": "3.12.7"
  }
 },
 "nbformat": 4,
 "nbformat_minor": 2
}
