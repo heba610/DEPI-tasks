{
 "cells": [
  {
   "cell_type": "markdown",
   "metadata": {},
   "source": [
    "# **Arithmetic**"
   ]
  },
  {
   "cell_type": "code",
   "execution_count": 2,
   "metadata": {},
   "outputs": [],
   "source": [
    "num1=float(input(\"Enter the first number: \"))\n",
    "num2=float(input(\"Enter the Second number: \"))"
   ]
  },
  {
   "cell_type": "code",
   "execution_count": 3,
   "metadata": {},
   "outputs": [
    {
     "name": "stdout",
     "output_type": "stream",
     "text": [
      "Sumation =11.0\n",
      "Subtraction=-1.0\n",
      "Multiplication=30.0\n",
      "division=0.8333333333333334\n",
      "FLoor=0.0\n",
      "modulus=5.0\n",
      "Exponent=15625.0\n"
     ]
    }
   ],
   "source": [
    "sum=num1+num2\n",
    "sub=num1-num2\n",
    "mul=num1*num2\n",
    "div=num1/num2\n",
    "floor=num1//num2\n",
    "mod=num1%num2\n",
    "power=num1**num2\n",
    "print(f\"Sumation ={sum}\")\n",
    "print(f\"Subtraction={sub}\")\n",
    "print(f\"Multiplication={mul}\")\n",
    "print(f\"division={div}\")\n",
    "print(f\"FLoor={floor}\")\n",
    "print(f\"modulus={mod}\")\n",
    "print(f\"Exponent={power}\")"
   ]
  },
  {
   "cell_type": "markdown",
   "metadata": {},
   "source": [
    "# **Comparison**"
   ]
  },
  {
   "cell_type": "code",
   "execution_count": 4,
   "metadata": {},
   "outputs": [
    {
     "name": "stdout",
     "output_type": "stream",
     "text": [
      "True\n",
      "False\n",
      "False\n",
      "True\n",
      "False\n",
      "True\n"
     ]
    }
   ],
   "source": [
    "x=num2>num1\n",
    "y=num2<num1\n",
    "z=num1==num2\n",
    "a=num2>=num1\n",
    "b=num2<=num1\n",
    "c=num2!=num1\n",
    "print(x)\n",
    "print(y)\n",
    "print(z)\n",
    "print(a)\n",
    "print(b)\n",
    "print(c)"
   ]
  },
  {
   "cell_type": "markdown",
   "metadata": {},
   "source": [
    "# **Logical**"
   ]
  },
  {
   "cell_type": "code",
   "execution_count": 5,
   "metadata": {},
   "outputs": [
    {
     "name": "stdout",
     "output_type": "stream",
     "text": [
      "5.0\n",
      "6.0\n",
      "False\n"
     ]
    }
   ],
   "source": [
    "x=num2 and num1\n",
    "y=num2 or num1\n",
    "z=not num1\n",
    "print(x)\n",
    "print(y)\n",
    "print(z)"
   ]
  },
  {
   "cell_type": "markdown",
   "metadata": {},
   "source": [
    "# **Bitwise**"
   ]
  },
  {
   "cell_type": "code",
   "execution_count": 8,
   "metadata": {},
   "outputs": [],
   "source": [
    "num1=int(num1)\n",
    "num2=int(num2)"
   ]
  },
  {
   "cell_type": "code",
   "execution_count": 10,
   "metadata": {},
   "outputs": [
    {
     "name": "stdout",
     "output_type": "stream",
     "text": [
      "4\n",
      "7\n",
      "-7\n",
      "3\n",
      "0\n",
      "320\n"
     ]
    }
   ],
   "source": [
    "x=num1 & num2\n",
    "y=num1 | num2\n",
    "z=~num2\n",
    "a=num1^num2\n",
    "b=num1>>num2\n",
    "c=num1<<num2\n",
    "print(x)\n",
    "print(y)\n",
    "print(z)\n",
    "print(a)\n",
    "print(b)\n",
    "print(c)"
   ]
  },
  {
   "cell_type": "markdown",
   "metadata": {},
   "source": [
    "# **Assignment**"
   ]
  },
  {
   "cell_type": "code",
   "execution_count": 12,
   "metadata": {},
   "outputs": [],
   "source": [
    "num1 +=int(input(\"Please Enter Number :\"))"
   ]
  },
  {
   "cell_type": "code",
   "execution_count": 13,
   "metadata": {},
   "outputs": [
    {
     "name": "stdout",
     "output_type": "stream",
     "text": [
      "11\n"
     ]
    }
   ],
   "source": [
    "print(num1)"
   ]
  },
  {
   "cell_type": "code",
   "execution_count": 14,
   "metadata": {},
   "outputs": [],
   "source": [
    "num2 &=int(input(\"Please Enter Number :\"))"
   ]
  },
  {
   "cell_type": "code",
   "execution_count": 15,
   "metadata": {},
   "outputs": [
    {
     "name": "stdout",
     "output_type": "stream",
     "text": [
      "4\n"
     ]
    }
   ],
   "source": [
    "print(num2)"
   ]
  },
  {
   "cell_type": "markdown",
   "metadata": {},
   "source": [
    "# **Identity**"
   ]
  },
  {
   "cell_type": "code",
   "execution_count": 16,
   "metadata": {},
   "outputs": [
    {
     "name": "stdout",
     "output_type": "stream",
     "text": [
      "False\n",
      "True\n"
     ]
    }
   ],
   "source": [
    "x=num1 is num2\n",
    "y=num1 is not num2\n",
    "print(x)\n",
    "print(y)"
   ]
  },
  {
   "cell_type": "markdown",
   "metadata": {},
   "source": [
    "# **Membership**"
   ]
  },
  {
   "cell_type": "code",
   "execution_count": 17,
   "metadata": {},
   "outputs": [],
   "source": [
    "list1=[\"a\",\"n\",\"s\"]\n",
    "list2=[\"a\",\"n\",\"u\"]"
   ]
  },
  {
   "cell_type": "code",
   "execution_count": 18,
   "metadata": {},
   "outputs": [
    {
     "name": "stdout",
     "output_type": "stream",
     "text": [
      "True\n",
      "False\n"
     ]
    }
   ],
   "source": [
    "x=\"s\" in list1\n",
    "y=\"s\" in list2\n",
    "print(x)\n",
    "print(y)"
   ]
  },
  {
   "cell_type": "markdown",
   "metadata": {},
   "source": [
    "# list"
   ]
  },
  {
   "cell_type": "code",
   "execution_count": 28,
   "metadata": {},
   "outputs": [
    {
     "name": "stdout",
     "output_type": "stream",
     "text": [
      "[5, 1, 2, 3, 4, 4]\n",
      "[3, 1, 2, 3, 4, 4]\n",
      "[3, 1, 2, 3, 4, 4, 10]\n",
      "['zezoo', 3, 1, 2, 3, 4, 4, 10]\n",
      "[3, 1, 2, 3, 4, 4, 10]\n",
      "[3, 1, 2, 3, 4, 4]\n",
      "[3, 1, 2, 3, 4, 4]\n",
      "[]\n",
      "1\n",
      "3\n",
      "None\n",
      "None\n",
      "['m', 5, 4, 3, 2]\n",
      "['m', 4]\n"
     ]
    }
   ],
   "source": [
    "list=[5,1,2,3,4,4]\n",
    "print(list)\n",
    "#moutable\n",
    "list[0]=3\n",
    "print(list)\n",
    "list.append(10)\n",
    "print(list)\n",
    "list.insert(0,\"zezoo\")\n",
    "print(list)\n",
    "list.remove(\"zezoo\")\n",
    "print(list)\n",
    "list.pop()\n",
    "print(list)\n",
    "list3=list.copy()\n",
    "print(list3)\n",
    "list.clear()\n",
    "print(list)\n",
    "list_4=[1,2,3,4,5]\n",
    "print(list_4.count(4))\n",
    "print(list_4.index(4))\n",
    "x=list_4.extend(\"m\")\n",
    "y=list_4.reverse()\n",
    "print(x)\n",
    "print(y)\n",
    "print(list_4[:-1])\n",
    "print(list_4[:4:2])"
   ]
  },
  {
   "cell_type": "markdown",
   "metadata": {},
   "source": [
    "# TuPle"
   ]
  },
  {
   "cell_type": "code",
   "execution_count": 26,
   "metadata": {},
   "outputs": [
    {
     "name": "stdout",
     "output_type": "stream",
     "text": [
      "(1, 2, 3, 4, 'zezoo', 4, 6, 8, 9)\n",
      "(1, 2, 3, 4, 'zezoo', 4, 6, 8, 9, 1, 2, 3, 4, 'zezoo', 4, 6, 8, 9)\n",
      "5\n",
      "(2, 3)\n",
      "1\n",
      "1\n"
     ]
    },
    {
     "data": {
      "text/plain": [
       "'\\nnot moutable\\ntpl[0]=10\\nprint(tpl)\\n'"
      ]
     },
     "execution_count": 26,
     "metadata": {},
     "output_type": "execute_result"
    }
   ],
   "source": [
    "tpl=(1,2,3,4,\"zezoo\")\n",
    "tpl2=(4,6,8,9)\n",
    "tpl3=tpl+tpl2\n",
    "tpl4=tpl3*2\n",
    "print(tpl3)\n",
    "print(tpl4)\n",
    "count=len(tpl)\n",
    "print(count)\n",
    "print(tpl[1:3])\n",
    "print(tpl.index(2))\n",
    "print(tpl.count(4))\n",
    "\"\"\"\n",
    "not moutable\n",
    "tpl[0]=10\n",
    "print(tpl)\n",
    "\"\"\""
   ]
  },
  {
   "cell_type": "markdown",
   "metadata": {},
   "source": [
    "# Set"
   ]
  },
  {
   "cell_type": "code",
   "execution_count": 29,
   "metadata": {},
   "outputs": [
    {
     "name": "stdout",
     "output_type": "stream",
     "text": [
      "<class 'set'>\n",
      "4\n",
      "{1, 2, 3, 4, 'zezoo'}\n",
      "{1, 2, 4, 'zezoo'}\n",
      "{1, 2, 4, 5, 7, 'zezoo'}\n",
      "{1, 2, 4, 5, 7, 9, 10, 24, 'zezoo'}\n",
      "{5}\n",
      "None\n"
     ]
    },
    {
     "data": {
      "text/plain": [
       "'not mutable\\nst[0]=10\\nprint(st)'"
      ]
     },
     "execution_count": 29,
     "metadata": {},
     "output_type": "execute_result"
    }
   ],
   "source": [
    "st={1,2,3,4}\n",
    "print(type(st))\n",
    "count=len(st)\n",
    "print(count)\n",
    "st.add(\"zezoo\")\n",
    "print(st)\n",
    "st.remove(3)\n",
    "print(st)\n",
    "st.update({7,5})\n",
    "print(st)\n",
    "st2={9,10,24,5}\n",
    "union=st|st2\n",
    "print(union)\n",
    "print(st.intersection(st2))\n",
    "print(st.clear())\n",
    "\"\"\"not mutable\n",
    "st[0]=10\n",
    "print(st)\"\"\""
   ]
  },
  {
   "cell_type": "markdown",
   "metadata": {},
   "source": [
    "# Dictionarie"
   ]
  },
  {
   "cell_type": "code",
   "execution_count": 33,
   "metadata": {},
   "outputs": [
    {
     "name": "stdout",
     "output_type": "stream",
     "text": [
      "<class 'dict'>\n",
      "{'name': 'zezoo', 'age': '19', 'salary': '1000'}\n",
      "{'name': 'zezoo', 'age': '19'}\n",
      "dict_keys(['name', 'age'])\n",
      "dict_values(['zezoo', '19'])\n"
     ]
    }
   ],
   "source": [
    "dct={\"name\":\"zezoo\",\"age\":\"19\"}\n",
    "print(type(dct))\n",
    "dct[\"salary\"]=\"1000\"\n",
    "print(dct)\n",
    "del dct[\"salary\"]\n",
    "print(dct)\n",
    "print(dct.keys())\n",
    "print(dct.values())"
   ]
  },
  {
   "cell_type": "markdown",
   "metadata": {},
   "source": [
    "# Task"
   ]
  },
  {
   "cell_type": "code",
   "execution_count": 1,
   "metadata": {},
   "outputs": [
    {
     "name": "stdout",
     "output_type": "stream",
     "text": [
      "The List is : ['50', '66', '10'] \n",
      " The Tuple is : ('50', '66', '10')\n"
     ]
    }
   ],
   "source": [
    "list=input(\"Enter value :\").split(\" \")\n",
    "tplu=tuple(list)\n",
    "print(f\"The List is : {list} \\n The Tuple is : {tplu}\")"
   ]
  }
 ],
 "metadata": {
  "kernelspec": {
   "display_name": "Python 3",
   "language": "python",
   "name": "python3"
  },
  "language_info": {
   "codemirror_mode": {
    "name": "ipython",
    "version": 3
   },
   "file_extension": ".py",
   "mimetype": "text/x-python",
   "name": "python",
   "nbconvert_exporter": "python",
   "pygments_lexer": "ipython3",
   "version": "3.12.7"
  }
 },
 "nbformat": 4,
 "nbformat_minor": 2
}
